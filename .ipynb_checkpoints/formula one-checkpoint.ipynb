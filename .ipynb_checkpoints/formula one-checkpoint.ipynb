{
 "cells": [
  {
   "cell_type": "code",
   "execution_count": 132,
   "metadata": {},
   "outputs": [],
   "source": [
    "import numpy as np\n",
    "import pandas as pd\n",
    "import matplotlib.pyplot as plt\n",
    "\n",
    "\n",
    "pd.set_option('display.max_columns', None)\n",
    "pd.options.mode.chained_assignment = None  # default='warn'\n",
    "base_path='/data/'"
   ]
  },
  {
   "cell_type": "code",
   "execution_count": 133,
   "metadata": {},
   "outputs": [],
   "source": [
    "circuits = pd.read_csv(base_path+'circuits.csv')\n",
    "constructorresults = pd.read_csv(base_path+'constructor_results.csv')\n",
    "constructorstandings = pd.read_csv(base_path+'constructor_standings.csv')\n",
    "constructors = pd.read_csv(base_path+'constructors.csv')\n",
    "driverstandings = pd.read_csv(base_path+'driver_standings.csv')\n",
    "drivers = pd.read_csv(base_path+'drivers.csv')\n",
    "laptimes = pd.read_csv(base_path+'lap_times.csv')\n",
    "pitstops = pd.read_csv(base_path+'pit_stops.csv')\n",
    "qualifying = pd.read_csv(base_path+'qualifying.csv')\n",
    "races = pd.read_csv(base_path+'races.csv')\n",
    "results = pd.read_csv(base_path+'results.csv')\n",
    "seasons = pd.read_csv(base_path+'seasons.csv')\n",
    "status = pd.read_csv(base_path+'status.csv')"
   ]
  },
  {
   "cell_type": "code",
   "execution_count": 134,
   "metadata": {},
   "outputs": [],
   "source": [
    "dataset= results.merge(races,how=\"inner\",on=\"raceId\",suffixes=[None,'_race'])\\\n",
    "                .merge(drivers,how=\"inner\",on=\"driverId\",suffixes=[None,'_driver'])\\\n",
    "                .merge(constructors,how=\"inner\",on=\"constructorId\",suffixes=[None,'_constructor'])\\\n",
    "                .merge(circuits,how=\"inner\",on=\"circuitId\",suffixes=[None,'_circuit'])\\\n",
    "                .merge(status,how=\"inner\",on=\"statusId\",suffixes=[None,'_status'])\\\n",
    "                .merge(driverstandings,how=\"inner\",on=['raceId','driverId'],suffixes=[None,'_standings'])\n",
    "\n",
    "columns_to_drop=['time','milliseconds','number','resultId','positionText','fastestLap', 'rank', 'fastestLapTime',\n",
    "                 'fastestLapSpeed','statusId','circuitId','url','url_driver','url_constructor','lat', 'lng', 'alt',\n",
    "                 'url_circuit','driverStandingsId','positionText_standings','wins']\n",
    "dataset = dataset.drop(columns_to_drop,axis=\"columns\")"
   ]
  },
  {
   "cell_type": "code",
   "execution_count": 135,
   "metadata": {},
   "outputs": [
    {
     "data": {
      "text/plain": [
       "Index(['raceId', 'driverId', 'constructorId', 'grid', 'position',\n",
       "       'positionOrder', 'points', 'laps', 'year', 'round', 'name', 'date',\n",
       "       'time_race', 'driverRef', 'number_driver', 'code', 'forename',\n",
       "       'surname', 'dob', 'nationality', 'constructorRef', 'name_constructor',\n",
       "       'nationality_constructor', 'circuitRef', 'name_circuit', 'location',\n",
       "       'country', 'status', 'points_standings', 'position_standings'],\n",
       "      dtype='object')"
      ]
     },
     "execution_count": 135,
     "metadata": {},
     "output_type": "execute_result"
    }
   ],
   "source": [
    "dataset.columns"
   ]
  },
  {
   "cell_type": "code",
   "execution_count": 136,
   "metadata": {},
   "outputs": [],
   "source": [
    "dataset = dataset[dataset.year >= 2010]"
   ]
  },
  {
   "cell_type": "code",
   "execution_count": 137,
   "metadata": {},
   "outputs": [],
   "source": [
    "dataset['fullname'] = dataset['forename']+' '+dataset['surname']\n",
    "drivers_2020 = ['Daniel Ricciardo', 'Kevin Magnussen', 'Carlos Sainz',\n",
    "'Valtteri Bottas', 'Lance Stroll', 'George Russell','Lando Norris', 'Sebastian Vettel', 'Kimi Räikkönen',\n",
    "'Charles Leclerc', 'Lewis Hamilton', 'Daniil Kvyat','Max Verstappen', 'Pierre Gasly', 'Alexander Albon',\n",
    "'Sergio Pérez', 'Esteban Ocon', 'Antonio Giovinazzi','Romain Grosjean','Nicholas Latifi']\n",
    "dataset['drivers_2020'] = dataset['fullname'].apply(lambda x: int(x in drivers_2020))"
   ]
  },
  {
   "cell_type": "code",
   "execution_count": 138,
   "metadata": {},
   "outputs": [],
   "source": [
    "# on garde que ceux dont on a besoin\n",
    "dataset = dataset[dataset.drivers_2020 == 1]"
   ]
  },
  {
   "cell_type": "code",
   "execution_count": 139,
   "metadata": {},
   "outputs": [],
   "source": [
    "# target \n",
    "def position_categorizer(position):\n",
    "    if position > 0 and position <= 3:\n",
    "        return 1\n",
    "    elif position > 3 and position <= 10:\n",
    "        return 2\n",
    "    else:\n",
    "        return 3\n",
    "\n",
    "dataset['podium'] = dataset['positionOrder'].apply(lambda x: 1 if (x > 0) and (x <= 3) else 0)\n",
    "dataset['top10']  = dataset['positionOrder'].apply(lambda x: 1 if (x > 0) and (x <= 10) else 0)\n",
    "dataset['pod_10_else']  = dataset['positionOrder'].apply(lambda x: position_categorizer(x))"
   ]
  },
  {
   "cell_type": "code",
   "execution_count": 140,
   "metadata": {},
   "outputs": [
    {
     "data": {
      "text/plain": [
       "<AxesSubplot:>"
      ]
     },
     "execution_count": 140,
     "metadata": {},
     "output_type": "execute_result"
    },
    {
     "data": {
      "image/png": "[encoded data removed]",
      "text/plain": [
       "<Figure size 432x288 with 1 Axes>"
      ]
     },
     "metadata": {
      "needs_background": "light"
     },
     "output_type": "display_data"
    }
   ],
   "source": [
    "dataset['podium'].hist()"
   ]
  },
  {
   "cell_type": "code",
   "execution_count": 141,
   "metadata": {},
   "outputs": [],
   "source": [
    "# renaming driverRef column to make the standard driver column \n",
    "dataset=dataset.rename(columns={\"driverRef\":\"driver\"})\n",
    "\n",
    "# same thing as above for constructor \n",
    "dataset=dataset.rename(columns={\"constructorRef\":\"constructor\"})\n",
    "\n",
    "#dataset=dataset.drop(['laps','time_race','name_constructor','dob','number_driver','code'],axis=1)"
   ]
  },
  {
   "cell_type": "code",
   "execution_count": 142,
   "metadata": {},
   "outputs": [],
   "source": [
    "# editing nationality and circuit country to a matching format\n",
    "country_dict = {'UK' : 'Bri','USA':'Ame','France':'Fre'}\n",
    "dataset['country'] = dataset['country'].apply(lambda x: str(x)[:3] if x not in ['UK','USA'] else country_dict[str(x)])\n",
    "dataset['nationality'] = dataset['nationality'].apply(lambda x: str(x)[:3])\n",
    "dataset['nationality_constructor'] = dataset['nationality_constructor'].apply(lambda x: str(x)[:3])"
   ]
  },
  {
   "cell_type": "code",
   "execution_count": 143,
   "metadata": {},
   "outputs": [
    {
     "data": {
      "text/plain": [
       "<AxesSubplot:>"
      ]
     },
     "execution_count": 143,
     "metadata": {},
     "output_type": "execute_result"
    },
    {
     "data": {
      "image/png": "[encoded data removed]",
      "text/plain": [
       "<Figure size 432x288 with 1 Axes>"
      ]
     },
     "metadata": {
      "needs_background": "light"
     },
     "output_type": "display_data"
    }
   ],
   "source": [
    "# distribution des podium des race effectuer a domicile\n",
    "dataset[dataset.country == dataset.nationality].groupby('driver',as_index=False)['podium'].sum()['podium'].hist()"
   ]
  },
  {
   "cell_type": "code",
   "execution_count": 144,
   "metadata": {},
   "outputs": [
    {
     "data": {
      "text/plain": [
       "<AxesSubplot:>"
      ]
     },
     "execution_count": 144,
     "metadata": {},
     "output_type": "execute_result"
    },
    {
     "data": {
      "image/png": "[encoded data removed]",
      "text/plain": [
       "<Figure size 432x288 with 1 Axes>"
      ]
     },
     "metadata": {
      "needs_background": "light"
     },
     "output_type": "display_data"
    }
   ],
   "source": [
    "# distribution des top10 des race effectuer a domicile\n",
    "dataset[dataset.country == dataset.nationality].groupby('driver',as_index=False)['top10'].sum()['top10'].hist()"
   ]
  },
  {
   "cell_type": "code",
   "execution_count": 145,
   "metadata": {},
   "outputs": [],
   "source": [
    "# remplacement de dob by age \n",
    "today = pd.Timestamp.today()\n",
    "dataset['date']= pd.to_datetime(dataset['date'])\n",
    "dataset['dob'] = pd.to_datetime(dataset['dob'])\n",
    "dataset['age'] = dataset[['date','dob']].apply(lambda x: x[0].year-x[1].year,axis=1)"
   ]
  },
  {
   "cell_type": "code",
   "execution_count": 146,
   "metadata": {},
   "outputs": [
    {
     "data": {
      "text/plain": [
       "<AxesSubplot:>"
      ]
     },
     "execution_count": 146,
     "metadata": {},
     "output_type": "execute_result"
    },
    {
     "data": {
      "image/png": "[encoded data removed]",
      "text/plain": [
       "<Figure size 432x288 with 1 Axes>"
      ]
     },
     "metadata": {
      "needs_background": "light"
     },
     "output_type": "display_data"
    }
   ],
   "source": [
    "dataset.age.hist()"
   ]
  },
  {
   "cell_type": "code",
   "execution_count": 478,
   "metadata": {},
   "outputs": [
    {
     "data": {
      "text/plain": [
       "<AxesSubplot:>"
      ]
     },
     "execution_count": 478,
     "metadata": {},
     "output_type": "execute_result"
    },
    {
     "data": {
      "image/png": "[encoded data removed]",
      "text/plain": [
       "<Figure size 432x288 with 1 Axes>"
      ]
     },
     "metadata": {
      "needs_background": "light"
     },
     "output_type": "display_data"
    }
   ],
   "source": [
    "dataset['age2'] = dataset['age'].apply(lambda age: int((age/2)+1) * 2)\n",
    "dataset['age2'].hist()"
   ]
  },
  {
   "cell_type": "code",
   "execution_count": 481,
   "metadata": {},
   "outputs": [
    {
     "data": {
      "text/plain": [
       "<AxesSubplot:xlabel='age2'>"
      ]
     },
     "execution_count": 481,
     "metadata": {},
     "output_type": "execute_result"
    },
    {
     "data": {
      "image/png": "[encoded data removed]",
      "text/plain": [
       "<Figure size 432x288 with 1 Axes>"
      ]
     },
     "metadata": {
      "needs_background": "light"
     },
     "output_type": "display_data"
    }
   ],
   "source": [
    "# influence de l'age sur les resultat \n",
    "dataset.groupby('age2',as_index=False)['podium'].mean().plot.line(x='age2',y='podium')"
   ]
  },
  {
   "cell_type": "code",
   "execution_count": 178,
   "metadata": {},
   "outputs": [
    {
     "data": {
      "text/plain": [
       "array(['raikkonen'], dtype=object)"
      ]
     },
     "execution_count": 178,
     "metadata": {},
     "output_type": "execute_result"
    }
   ],
   "source": [
    "dataset[dataset.age >= 37]['driver'].unique()"
   ]
  },
  {
   "cell_type": "code",
   "execution_count": null,
   "metadata": {},
   "outputs": [],
   "source": [
    "dataset.groupby(['name'],as_index=False)['date'].size()"
   ]
  },
  {
   "cell_type": "code",
   "execution_count": 197,
   "metadata": {},
   "outputs": [
    {
     "data": {
      "text/plain": [
       "<AxesSubplot:xlabel='name'>"
      ]
     },
     "execution_count": 197,
     "metadata": {},
     "output_type": "execute_result"
    },
    {
     "data": {
      "image/png": "[encoded data removed]",
      "text/plain": [
       "<Figure size 432x288 with 1 Axes>"
      ]
     },
     "metadata": {
      "needs_background": "light"
     },
     "output_type": "display_data"
    }
   ],
   "source": [
    "# gp max podium by one driver\n",
    "gp_max_win_by_one = dataset.groupby(['name','driver'],as_index=False)['podium'].sum()\\\n",
    "        .groupby('name',as_index=False)['podium'].max()\n",
    "gp_organized_count = dataset.groupby(['name'],as_index=False)['date'].size()\n",
    "\n",
    "to_plot = gp_max_win_by_one.merge(gp_organized_count,how=\"inner\",on='name')\n",
    "to_plot['ratio'] = to_plot['podium'] / to_plot['size']\n",
    "\n",
    "to_plot.sort_values(by='ratio').plot.bar(x='name',y='ratio')\n",
    "\n"
   ]
  },
  {
   "cell_type": "code",
   "execution_count": 154,
   "metadata": {},
   "outputs": [],
   "source": [
    "def gp_driver_win_ratio(gp,driver):\n",
    "    driver_gp_data = dataset[(dataset.name == gp) \n",
    "                             & (dataset.driver == driver)]\n",
    "    podium = driver_gp_data['podium'].sum()\n",
    "    participated = driver_gp_data['podium'].count()\n",
    "    return podium/participated"
   ]
  },
  {
   "cell_type": "code",
   "execution_count": 155,
   "metadata": {},
   "outputs": [
    {
     "data": {
      "text/html": [
       "<div>\n",
       "<style scoped>\n",
       "    .dataframe tbody tr th:only-of-type {\n",
       "        vertical-align: middle;\n",
       "    }\n",
       "\n",
       "    .dataframe tbody tr th {\n",
       "        vertical-align: top;\n",
       "    }\n",
       "\n",
       "    .dataframe thead th {\n",
       "        text-align: right;\n",
       "    }\n",
       "</style>\n",
       "<table border=\"1\" class=\"dataframe\">\n",
       "  <thead>\n",
       "    <tr style=\"text-align: right;\">\n",
       "      <th></th>\n",
       "      <th>raceId</th>\n",
       "      <th>driverId</th>\n",
       "      <th>constructorId</th>\n",
       "      <th>grid</th>\n",
       "      <th>position</th>\n",
       "      <th>positionOrder</th>\n",
       "      <th>points</th>\n",
       "      <th>laps</th>\n",
       "      <th>year</th>\n",
       "      <th>round</th>\n",
       "      <th>name</th>\n",
       "      <th>date</th>\n",
       "      <th>time_race</th>\n",
       "      <th>driver</th>\n",
       "      <th>number_driver</th>\n",
       "      <th>code</th>\n",
       "      <th>forename</th>\n",
       "      <th>surname</th>\n",
       "      <th>dob</th>\n",
       "      <th>nationality</th>\n",
       "      <th>constructor</th>\n",
       "      <th>name_constructor</th>\n",
       "      <th>nationality_constructor</th>\n",
       "      <th>circuitRef</th>\n",
       "      <th>name_circuit</th>\n",
       "      <th>location</th>\n",
       "      <th>country</th>\n",
       "      <th>status</th>\n",
       "      <th>points_standings</th>\n",
       "      <th>position_standings</th>\n",
       "      <th>fullname</th>\n",
       "      <th>drivers_2020</th>\n",
       "      <th>podium</th>\n",
       "      <th>top10</th>\n",
       "      <th>pod_10_else</th>\n",
       "      <th>age</th>\n",
       "      <th>gp_driver_win_ratio</th>\n",
       "    </tr>\n",
       "  </thead>\n",
       "  <tbody>\n",
       "    <tr>\n",
       "      <th>2</th>\n",
       "      <td>338</td>\n",
       "      <td>1</td>\n",
       "      <td>1</td>\n",
       "      <td>11</td>\n",
       "      <td>6</td>\n",
       "      <td>6</td>\n",
       "      <td>8.0</td>\n",
       "      <td>58</td>\n",
       "      <td>2010</td>\n",
       "      <td>2</td>\n",
       "      <td>Australian Grand Prix</td>\n",
       "      <td>2010-03-28</td>\n",
       "      <td>06:00:00</td>\n",
       "      <td>hamilton</td>\n",
       "      <td>44</td>\n",
       "      <td>HAM</td>\n",
       "      <td>Lewis</td>\n",
       "      <td>Hamilton</td>\n",
       "      <td>1985-01-07</td>\n",
       "      <td>Bri</td>\n",
       "      <td>mclaren</td>\n",
       "      <td>McLaren</td>\n",
       "      <td>Bri</td>\n",
       "      <td>albert_park</td>\n",
       "      <td>Albert Park Grand Prix Circuit</td>\n",
       "      <td>Melbourne</td>\n",
       "      <td>Aus</td>\n",
       "      <td>Finished</td>\n",
       "      <td>23.0</td>\n",
       "      <td>4</td>\n",
       "      <td>Lewis Hamilton</td>\n",
       "      <td>1</td>\n",
       "      <td>0</td>\n",
       "      <td>1</td>\n",
       "      <td>2</td>\n",
       "      <td>25</td>\n",
       "      <td>0.700000</td>\n",
       "    </tr>\n",
       "    <tr>\n",
       "      <th>3</th>\n",
       "      <td>841</td>\n",
       "      <td>1</td>\n",
       "      <td>1</td>\n",
       "      <td>2</td>\n",
       "      <td>2</td>\n",
       "      <td>2</td>\n",
       "      <td>18.0</td>\n",
       "      <td>58</td>\n",
       "      <td>2011</td>\n",
       "      <td>1</td>\n",
       "      <td>Australian Grand Prix</td>\n",
       "      <td>2011-03-27</td>\n",
       "      <td>06:00:00</td>\n",
       "      <td>hamilton</td>\n",
       "      <td>44</td>\n",
       "      <td>HAM</td>\n",
       "      <td>Lewis</td>\n",
       "      <td>Hamilton</td>\n",
       "      <td>1985-01-07</td>\n",
       "      <td>Bri</td>\n",
       "      <td>mclaren</td>\n",
       "      <td>McLaren</td>\n",
       "      <td>Bri</td>\n",
       "      <td>albert_park</td>\n",
       "      <td>Albert Park Grand Prix Circuit</td>\n",
       "      <td>Melbourne</td>\n",
       "      <td>Aus</td>\n",
       "      <td>Finished</td>\n",
       "      <td>18.0</td>\n",
       "      <td>2</td>\n",
       "      <td>Lewis Hamilton</td>\n",
       "      <td>1</td>\n",
       "      <td>1</td>\n",
       "      <td>1</td>\n",
       "      <td>1</td>\n",
       "      <td>26</td>\n",
       "      <td>0.700000</td>\n",
       "    </tr>\n",
       "    <tr>\n",
       "      <th>4</th>\n",
       "      <td>860</td>\n",
       "      <td>1</td>\n",
       "      <td>1</td>\n",
       "      <td>1</td>\n",
       "      <td>3</td>\n",
       "      <td>3</td>\n",
       "      <td>15.0</td>\n",
       "      <td>58</td>\n",
       "      <td>2012</td>\n",
       "      <td>1</td>\n",
       "      <td>Australian Grand Prix</td>\n",
       "      <td>2012-03-18</td>\n",
       "      <td>06:00:00</td>\n",
       "      <td>hamilton</td>\n",
       "      <td>44</td>\n",
       "      <td>HAM</td>\n",
       "      <td>Lewis</td>\n",
       "      <td>Hamilton</td>\n",
       "      <td>1985-01-07</td>\n",
       "      <td>Bri</td>\n",
       "      <td>mclaren</td>\n",
       "      <td>McLaren</td>\n",
       "      <td>Bri</td>\n",
       "      <td>albert_park</td>\n",
       "      <td>Albert Park Grand Prix Circuit</td>\n",
       "      <td>Melbourne</td>\n",
       "      <td>Aus</td>\n",
       "      <td>Finished</td>\n",
       "      <td>15.0</td>\n",
       "      <td>3</td>\n",
       "      <td>Lewis Hamilton</td>\n",
       "      <td>1</td>\n",
       "      <td>1</td>\n",
       "      <td>1</td>\n",
       "      <td>1</td>\n",
       "      <td>27</td>\n",
       "      <td>0.700000</td>\n",
       "    </tr>\n",
       "    <tr>\n",
       "      <th>25</th>\n",
       "      <td>880</td>\n",
       "      <td>815</td>\n",
       "      <td>1</td>\n",
       "      <td>15</td>\n",
       "      <td>11</td>\n",
       "      <td>11</td>\n",
       "      <td>0.0</td>\n",
       "      <td>58</td>\n",
       "      <td>2013</td>\n",
       "      <td>1</td>\n",
       "      <td>Australian Grand Prix</td>\n",
       "      <td>2013-03-17</td>\n",
       "      <td>06:00:00</td>\n",
       "      <td>perez</td>\n",
       "      <td>11</td>\n",
       "      <td>PER</td>\n",
       "      <td>Sergio</td>\n",
       "      <td>Pérez</td>\n",
       "      <td>1990-01-26</td>\n",
       "      <td>Mex</td>\n",
       "      <td>mclaren</td>\n",
       "      <td>McLaren</td>\n",
       "      <td>Bri</td>\n",
       "      <td>albert_park</td>\n",
       "      <td>Albert Park Grand Prix Circuit</td>\n",
       "      <td>Melbourne</td>\n",
       "      <td>Aus</td>\n",
       "      <td>Finished</td>\n",
       "      <td>0.0</td>\n",
       "      <td>11</td>\n",
       "      <td>Sergio Pérez</td>\n",
       "      <td>1</td>\n",
       "      <td>0</td>\n",
       "      <td>0</td>\n",
       "      <td>3</td>\n",
       "      <td>23</td>\n",
       "      <td>0.000000</td>\n",
       "    </tr>\n",
       "    <tr>\n",
       "      <th>26</th>\n",
       "      <td>900</td>\n",
       "      <td>825</td>\n",
       "      <td>1</td>\n",
       "      <td>4</td>\n",
       "      <td>2</td>\n",
       "      <td>2</td>\n",
       "      <td>18.0</td>\n",
       "      <td>57</td>\n",
       "      <td>2014</td>\n",
       "      <td>1</td>\n",
       "      <td>Australian Grand Prix</td>\n",
       "      <td>2014-03-16</td>\n",
       "      <td>06:00:00</td>\n",
       "      <td>kevin_magnussen</td>\n",
       "      <td>20</td>\n",
       "      <td>MAG</td>\n",
       "      <td>Kevin</td>\n",
       "      <td>Magnussen</td>\n",
       "      <td>1992-10-05</td>\n",
       "      <td>Dan</td>\n",
       "      <td>mclaren</td>\n",
       "      <td>McLaren</td>\n",
       "      <td>Bri</td>\n",
       "      <td>albert_park</td>\n",
       "      <td>Albert Park Grand Prix Circuit</td>\n",
       "      <td>Melbourne</td>\n",
       "      <td>Aus</td>\n",
       "      <td>Finished</td>\n",
       "      <td>18.0</td>\n",
       "      <td>2</td>\n",
       "      <td>Kevin Magnussen</td>\n",
       "      <td>1</td>\n",
       "      <td>1</td>\n",
       "      <td>1</td>\n",
       "      <td>1</td>\n",
       "      <td>22</td>\n",
       "      <td>0.166667</td>\n",
       "    </tr>\n",
       "  </tbody>\n",
       "</table>\n",
       "</div>"
      ],
      "text/plain": [
       "    raceId  driverId  constructorId  grid position  positionOrder  points  \\\n",
       "2      338         1              1    11        6              6     8.0   \n",
       "3      841         1              1     2        2              2    18.0   \n",
       "4      860         1              1     1        3              3    15.0   \n",
       "25     880       815              1    15       11             11     0.0   \n",
       "26     900       825              1     4        2              2    18.0   \n",
       "\n",
       "    laps  year  round                   name       date time_race  \\\n",
       "2     58  2010      2  Australian Grand Prix 2010-03-28  06:00:00   \n",
       "3     58  2011      1  Australian Grand Prix 2011-03-27  06:00:00   \n",
       "4     58  2012      1  Australian Grand Prix 2012-03-18  06:00:00   \n",
       "25    58  2013      1  Australian Grand Prix 2013-03-17  06:00:00   \n",
       "26    57  2014      1  Australian Grand Prix 2014-03-16  06:00:00   \n",
       "\n",
       "             driver number_driver code forename    surname        dob  \\\n",
       "2          hamilton            44  HAM    Lewis   Hamilton 1985-01-07   \n",
       "3          hamilton            44  HAM    Lewis   Hamilton 1985-01-07   \n",
       "4          hamilton            44  HAM    Lewis   Hamilton 1985-01-07   \n",
       "25            perez            11  PER   Sergio      Pérez 1990-01-26   \n",
       "26  kevin_magnussen            20  MAG    Kevin  Magnussen 1992-10-05   \n",
       "\n",
       "   nationality constructor name_constructor nationality_constructor  \\\n",
       "2          Bri     mclaren          McLaren                     Bri   \n",
       "3          Bri     mclaren          McLaren                     Bri   \n",
       "4          Bri     mclaren          McLaren                     Bri   \n",
       "25         Mex     mclaren          McLaren                     Bri   \n",
       "26         Dan     mclaren          McLaren                     Bri   \n",
       "\n",
       "     circuitRef                    name_circuit   location country    status  \\\n",
       "2   albert_park  Albert Park Grand Prix Circuit  Melbourne     Aus  Finished   \n",
       "3   albert_park  Albert Park Grand Prix Circuit  Melbourne     Aus  Finished   \n",
       "4   albert_park  Albert Park Grand Prix Circuit  Melbourne     Aus  Finished   \n",
       "25  albert_park  Albert Park Grand Prix Circuit  Melbourne     Aus  Finished   \n",
       "26  albert_park  Albert Park Grand Prix Circuit  Melbourne     Aus  Finished   \n",
       "\n",
       "    points_standings  position_standings         fullname  drivers_2020  \\\n",
       "2               23.0                   4   Lewis Hamilton             1   \n",
       "3               18.0                   2   Lewis Hamilton             1   \n",
       "4               15.0                   3   Lewis Hamilton             1   \n",
       "25               0.0                  11     Sergio Pérez             1   \n",
       "26              18.0                   2  Kevin Magnussen             1   \n",
       "\n",
       "    podium  top10  pod_10_else  age  gp_driver_win_ratio  \n",
       "2        0      1            2   25             0.700000  \n",
       "3        1      1            1   26             0.700000  \n",
       "4        1      1            1   27             0.700000  \n",
       "25       0      0            3   23             0.000000  \n",
       "26       1      1            1   22             0.166667  "
      ]
     },
     "execution_count": 155,
     "metadata": {},
     "output_type": "execute_result"
    }
   ],
   "source": [
    "dataset['gp_driver_win_ratio'] = dataset[['name','driver']].apply(lambda x: gp_driver_win_ratio(x[0],x[1]),axis=1).fillna(0)\n",
    "dataset.head()"
   ]
  },
  {
   "cell_type": "code",
   "execution_count": 157,
   "metadata": {},
   "outputs": [
    {
     "data": {
      "text/plain": [
       "<AxesSubplot:xlabel='rounded_ratio'>"
      ]
     },
     "execution_count": 157,
     "metadata": {},
     "output_type": "execute_result"
    },
    {
     "data": {
      "image/png": "[encoded data removed]",
      "text/plain": [
       "<Figure size 432x288 with 1 Axes>"
      ]
     },
     "metadata": {
      "needs_background": "light"
     },
     "output_type": "display_data"
    }
   ],
   "source": [
    "to_plot = dataset[['gp_driver_win_ratio','positionOrder']]\n",
    "to_plot['rounded_ratio'] = to_plot['gp_driver_win_ratio'].apply(lambda x: np.around(x,1))\n",
    "\n",
    "to_plot.groupby('rounded_ratio',as_index=False)['positionOrder'].mean().plot.line(x='rounded_ratio',y='positionOrder')"
   ]
  },
  {
   "cell_type": "code",
   "execution_count": 159,
   "metadata": {},
   "outputs": [
    {
     "data": {
      "text/plain": [
       "<AxesSubplot:xlabel='position_standings'>"
      ]
     },
     "execution_count": 159,
     "metadata": {},
     "output_type": "execute_result"
    },
    {
     "data": {
      "image/png": "[encoded data removed]",
      "text/plain": [
       "<Figure size 432x288 with 1 Axes>"
      ]
     },
     "metadata": {
      "needs_background": "light"
     },
     "output_type": "display_data"
    }
   ],
   "source": [
    "posstand_pos_rel = dataset[dataset.year==2020]\\\n",
    "    .groupby(['position_standings'],as_index=False)['positionOrder'].mean()\n",
    "posstand_pos_rel.plot.line(x='position_standings',y='positionOrder')\n",
    "\n",
    "#ploting positionstanding to position "
   ]
  },
  {
   "cell_type": "code",
   "execution_count": 190,
   "metadata": {},
   "outputs": [
    {
     "data": {
      "text/plain": [
       "<AxesSubplot:xlabel='grid'>"
      ]
     },
     "execution_count": 190,
     "metadata": {},
     "output_type": "execute_result"
    },
    {
     "data": {
      "image/png": "[encoded data removed]",
      "text/plain": [
       "<Figure size 432x288 with 1 Axes>"
      ]
     },
     "metadata": {
      "needs_background": "light"
     },
     "output_type": "display_data"
    }
   ],
   "source": [
    "grid_pos_rel = dataset[dataset.year==2020]\\\n",
    "    .groupby(['grid'],as_index=False)['positionOrder'].mean()\n",
    "grid_pos_rel.plot.line(x='grid',y='positionOrder')\n",
    "\n",
    "#ploting grid to position "
   ]
  },
  {
   "cell_type": "code",
   "execution_count": 161,
   "metadata": {},
   "outputs": [],
   "source": [
    "dataset['grid2'] = dataset['grid'].apply(lambda x: x if x > 0 else 25)"
   ]
  },
  {
   "cell_type": "code",
   "execution_count": 196,
   "metadata": {},
   "outputs": [
    {
     "data": {
      "text/plain": [
       "<AxesSubplot:xlabel='driver'>"
      ]
     },
     "execution_count": 196,
     "metadata": {},
     "output_type": "execute_result"
    },
    {
     "data": {
      "image/png": "[encoded data removed]",
      "text/plain": [
       "<Figure size 432x288 with 1 Axes>"
      ]
     },
     "metadata": {
      "needs_background": "light"
     },
     "output_type": "display_data"
    }
   ],
   "source": [
    "dataset.groupby('driver',as_index=False)\\\n",
    "['positionOrder'].mean()\\\n",
    ".sort_values(by='positionOrder')\\\n",
    ".plot.bar(x='driver',y='positionOrder')"
   ]
  },
  {
   "cell_type": "code",
   "execution_count": 199,
   "metadata": {},
   "outputs": [],
   "source": [
    "no_finish_driver   =['Accident','Eye injury', 'Fatal accident', 'Driver unwell', 'Injured', 'Injury','Illness']\n",
    "no_finish_technical=['Alternator', 'Axle', 'Battery', 'Brake duct', 'Brakes',\n",
    "                    'Broken wing', 'CV joint', 'Chassis', 'Clutch', 'Collision',\n",
    "                    'Collision damage', 'Crankshaft', 'Damage', 'Debris', 'Differential',\n",
    "                    'Distributor', 'Driver Seat','Driveshaft', 'Drivetrain', 'ERS', \n",
    "                    'Electrical', 'Electronics','Engine', 'Engine fire', 'Engine misfire', \n",
    "                    'Excluded', 'Exhaust','Engine misfire', 'Excluded', 'Exhaust',\n",
    "                    'Power loss', 'Puncture', 'Radiator', 'Rear wing', 'Refuelling',\n",
    "                    'Retired', 'Safety', 'Safety belt', 'Safety concerns', 'Seat',\n",
    "                    'Spark plugs', 'Spun off', 'Stalled', 'Steering', 'Supercharger',\n",
    "                    'Suspension', 'Technical', 'Throttle', 'Track rod', 'Transmission',\n",
    "                    'Turbo', 'Tyre', 'Tyre puncture', 'Underweight', 'Vibrations',\n",
    "                    'Water leak', 'Water pipe', 'Water pressure', 'Water pump',\n",
    "                    'Wheel', 'Wheel bearing', 'Wheel nut', 'Wheel rim', 'Withdrew',\n",
    "                    'Mechanical', 'Not classified', 'Not restarted', 'Oil leak',\n",
    "                    'Oil line', 'Oil pipe', 'Oil pressure', 'Oil pump', 'Out of fuel',\n",
    "                    'Overheating', 'Physical', 'Pneumatics', 'Power Unit','Injection',\n",
    "                    'Power loss', 'Puncture', 'Radiator', 'Rear wing', 'Refuelling', \n",
    "                    'Heat shield fire', 'Hydraulics', 'Ignition', 'Fire', 'Front wing',\n",
    "                    'Fuel', 'Fuel leak', 'Fuel pipe', 'Fuel pressure', 'Fuel pump',\n",
    "                    'Fuel rig', 'Fuel system', 'Gearbox', 'Halfshaft', 'Handling',\n",
    "                    'Driveshaft', 'Drivetrain', 'ERS', 'Electrical', 'Electronics',\n",
    "                    'Engine', 'Engine fire','Launch control', 'Magneto']\n",
    "no_finish_bad   = ['+1 Lap', '+10 Laps', '+11 Laps', '+12 Laps', '+13 Laps',\n",
    "                   '+14 Laps', '+15 Laps', '+16 Laps', '+17 Laps', '+18 Laps',\n",
    "                   '+19 Laps', '+2 Laps', '+20 Laps', '+21 Laps', '+22 Laps',\n",
    "                   '+23 Laps', '+24 Laps', '+25 Laps', '+26 Laps', '+29 Laps',\n",
    "                   '+3 Laps', '+30 Laps', '+38 Laps', '+4 Laps', '+42 Laps',\n",
    "                   '+44 Laps', '+46 Laps', '+49 Laps', '+5 Laps', '+6 Laps',\n",
    "                   '+7 Laps', '+8 Laps', '+9 Laps']\n",
    "no_finish_qualif =['Did not prequalify', 'Did not qualify','Disqualified','107% Rule']\n",
    "\n",
    "def status_category_reduction(status):\n",
    "    \n",
    "    if status in no_finish_driver:\n",
    "        return 'injury'\n",
    "    elif status in no_finish_technical:\n",
    "        return 'technical'\n",
    "    elif status in no_finish_bad:\n",
    "        return 'over laped'\n",
    "    elif status in no_finish_qualif:\n",
    "        return 'not qualified'\n",
    "    else:\n",
    "        return 'finished'\n",
    "dataset['status'] = dataset['status'].apply(lambda x: status_category_reduction(x))"
   ]
  },
  {
   "cell_type": "code",
   "execution_count": 234,
   "metadata": {},
   "outputs": [],
   "source": [
    "not_finished=['injury','over laped','not qualified']\n",
    "def dnf_ratio(driver):\n",
    "    \n",
    "    driver_dnf = dataset[dataset.driver == driver]['status']\\\n",
    "        .apply(lambda x: 1 if x in not_finished else 0)\n",
    "    \n",
    "    return np.around(driver_dnf.sum()/float(driver_dnf.count()),2)\n",
    "\n",
    "dataset['dnf_ratio'] = dataset['driver'].apply(lambda x: dnf_ratio(x)).fillna(0)"
   ]
  },
  {
   "cell_type": "code",
   "execution_count": 204,
   "metadata": {},
   "outputs": [
    {
     "data": {
      "text/plain": [
       "<AxesSubplot:>"
      ]
     },
     "execution_count": 204,
     "metadata": {},
     "output_type": "execute_result"
    },
    {
     "data": {
      "image/png": "[encoded data removed]",
      "text/plain": [
       "<Figure size 432x288 with 1 Axes>"
      ]
     },
     "metadata": {
      "needs_background": "light"
     },
     "output_type": "display_data"
    }
   ],
   "source": [
    "dataset['dnf_ratio'].hist(bins=20)"
   ]
  },
  {
   "cell_type": "code",
   "execution_count": 205,
   "metadata": {},
   "outputs": [
    {
     "data": {
      "text/plain": [
       "<AxesSubplot:xlabel='rounded_dnf_ratio'>"
      ]
     },
     "execution_count": 205,
     "metadata": {},
     "output_type": "execute_result"
    },
    {
     "data": {
      "image/png": "[encoded data removed]",
      "text/plain": [
       "<Figure size 432x288 with 1 Axes>"
      ]
     },
     "metadata": {
      "needs_background": "light"
     },
     "output_type": "display_data"
    }
   ],
   "source": [
    "\n",
    "to_plot = dataset[['dnf_ratio','positionOrder']]\n",
    "to_plot['rounded_dnf_ratio'] = dataset['dnf_ratio'].apply(lambda x: np.around(x,1))\n",
    "to_plot.groupby('rounded_dnf_ratio')['positionOrder'].mean().plot.line(x='rounded_dnf_ratio',y='positionOrder')"
   ]
  },
  {
   "cell_type": "code",
   "execution_count": 393,
   "metadata": {},
   "outputs": [],
   "source": [
    "dataset['dnf_ratio'] = 1-dataset['dnf_ratio']"
   ]
  },
  {
   "cell_type": "code",
   "execution_count": 482,
   "metadata": {},
   "outputs": [],
   "source": [
    "feature_engineered_dataset = dataset[['grid2','position_standings','driver','gp_driver_win_ratio','dnf_ratio','podium']]"
   ]
  },
  {
   "cell_type": "code",
   "execution_count": 387,
   "metadata": {},
   "outputs": [],
   "source": [
    "# fin\n",
    "feature_engineered_dataset = dataset[['grid2','name','driver','constructor','position_standings','age','gp_driver_win_ratio','dnf_ratio','podium']]"
   ]
  },
  {
   "cell_type": "code",
   "execution_count": 483,
   "metadata": {},
   "outputs": [],
   "source": [
    "from sklearn.preprocessing import LabelEncoder\n",
    "\n",
    "gp_encoder = LabelEncoder()\n",
    "#feature_engineered_dataset['name'] = gp_encoder.fit_transform(feature_engineered_dataset['name'])\n",
    "\n",
    "driver_encoder = LabelEncoder()\n",
    "feature_engineered_dataset['driver'] = driver_encoder.fit_transform(feature_engineered_dataset['driver'])\n",
    "\n",
    "const_encoder = LabelEncoder()\n",
    "#feature_engineered_dataset['constructor'] = const_encoder.fit_transform(feature_engineered_dataset['constructor'])\n"
   ]
  },
  {
   "cell_type": "code",
   "execution_count": 484,
   "metadata": {},
   "outputs": [
    {
     "data": {
      "text/html": [
       "<div>\n",
       "<style scoped>\n",
       "    .dataframe tbody tr th:only-of-type {\n",
       "        vertical-align: middle;\n",
       "    }\n",
       "\n",
       "    .dataframe tbody tr th {\n",
       "        vertical-align: top;\n",
       "    }\n",
       "\n",
       "    .dataframe thead th {\n",
       "        text-align: right;\n",
       "    }\n",
       "</style>\n",
       "<table border=\"1\" class=\"dataframe\">\n",
       "  <thead>\n",
       "    <tr style=\"text-align: right;\">\n",
       "      <th></th>\n",
       "      <th>grid2</th>\n",
       "      <th>position_standings</th>\n",
       "      <th>driver</th>\n",
       "      <th>gp_driver_win_ratio</th>\n",
       "      <th>dnf_ratio</th>\n",
       "      <th>podium</th>\n",
       "    </tr>\n",
       "  </thead>\n",
       "  <tbody>\n",
       "    <tr>\n",
       "      <th>2</th>\n",
       "      <td>11</td>\n",
       "      <td>4</td>\n",
       "      <td>5</td>\n",
       "      <td>0.700000</td>\n",
       "      <td>0.99</td>\n",
       "      <td>0</td>\n",
       "    </tr>\n",
       "    <tr>\n",
       "      <th>3</th>\n",
       "      <td>2</td>\n",
       "      <td>2</td>\n",
       "      <td>5</td>\n",
       "      <td>0.700000</td>\n",
       "      <td>0.99</td>\n",
       "      <td>1</td>\n",
       "    </tr>\n",
       "    <tr>\n",
       "      <th>4</th>\n",
       "      <td>1</td>\n",
       "      <td>3</td>\n",
       "      <td>5</td>\n",
       "      <td>0.700000</td>\n",
       "      <td>0.99</td>\n",
       "      <td>1</td>\n",
       "    </tr>\n",
       "    <tr>\n",
       "      <th>25</th>\n",
       "      <td>15</td>\n",
       "      <td>11</td>\n",
       "      <td>13</td>\n",
       "      <td>0.000000</td>\n",
       "      <td>0.63</td>\n",
       "      <td>0</td>\n",
       "    </tr>\n",
       "    <tr>\n",
       "      <th>26</th>\n",
       "      <td>4</td>\n",
       "      <td>2</td>\n",
       "      <td>6</td>\n",
       "      <td>0.166667</td>\n",
       "      <td>0.49</td>\n",
       "      <td>1</td>\n",
       "    </tr>\n",
       "    <tr>\n",
       "      <th>...</th>\n",
       "      <td>...</td>\n",
       "      <td>...</td>\n",
       "      <td>...</td>\n",
       "      <td>...</td>\n",
       "      <td>...</td>\n",
       "      <td>...</td>\n",
       "    </tr>\n",
       "    <tr>\n",
       "      <th>24343</th>\n",
       "      <td>15</td>\n",
       "      <td>20</td>\n",
       "      <td>16</td>\n",
       "      <td>0.000000</td>\n",
       "      <td>0.29</td>\n",
       "      <td>0</td>\n",
       "    </tr>\n",
       "    <tr>\n",
       "      <th>24402</th>\n",
       "      <td>2</td>\n",
       "      <td>2</td>\n",
       "      <td>19</td>\n",
       "      <td>0.700000</td>\n",
       "      <td>0.95</td>\n",
       "      <td>0</td>\n",
       "    </tr>\n",
       "    <tr>\n",
       "      <th>24406</th>\n",
       "      <td>18</td>\n",
       "      <td>4</td>\n",
       "      <td>14</td>\n",
       "      <td>0.285714</td>\n",
       "      <td>0.81</td>\n",
       "      <td>0</td>\n",
       "    </tr>\n",
       "    <tr>\n",
       "      <th>24407</th>\n",
       "      <td>6</td>\n",
       "      <td>7</td>\n",
       "      <td>13</td>\n",
       "      <td>0.333333</td>\n",
       "      <td>0.63</td>\n",
       "      <td>0</td>\n",
       "    </tr>\n",
       "    <tr>\n",
       "      <th>24408</th>\n",
       "      <td>17</td>\n",
       "      <td>19</td>\n",
       "      <td>6</td>\n",
       "      <td>0.000000</td>\n",
       "      <td>0.49</td>\n",
       "      <td>0</td>\n",
       "    </tr>\n",
       "  </tbody>\n",
       "</table>\n",
       "<p>2167 rows × 6 columns</p>\n",
       "</div>"
      ],
      "text/plain": [
       "       grid2  position_standings  driver  gp_driver_win_ratio  dnf_ratio  \\\n",
       "2         11                   4       5             0.700000       0.99   \n",
       "3          2                   2       5             0.700000       0.99   \n",
       "4          1                   3       5             0.700000       0.99   \n",
       "25        15                  11      13             0.000000       0.63   \n",
       "26         4                   2       6             0.166667       0.49   \n",
       "...      ...                 ...     ...                  ...        ...   \n",
       "24343     15                  20      16             0.000000       0.29   \n",
       "24402      2                   2      19             0.700000       0.95   \n",
       "24406     18                   4      14             0.285714       0.81   \n",
       "24407      6                   7      13             0.333333       0.63   \n",
       "24408     17                  19       6             0.000000       0.49   \n",
       "\n",
       "       podium  \n",
       "2           0  \n",
       "3           1  \n",
       "4           1  \n",
       "25          0  \n",
       "26          1  \n",
       "...       ...  \n",
       "24343       0  \n",
       "24402       0  \n",
       "24406       0  \n",
       "24407       0  \n",
       "24408       0  \n",
       "\n",
       "[2167 rows x 6 columns]"
      ]
     },
     "execution_count": 484,
     "metadata": {},
     "output_type": "execute_result"
    }
   ],
   "source": [
    "feature_engineered_dataset"
   ]
  },
  {
   "cell_type": "code",
   "execution_count": 485,
   "metadata": {},
   "outputs": [],
   "source": [
    "from sklearn.preprocessing import StandardScaler\n",
    "\n",
    "sc = StandardScaler()\n",
    "X = sc.fit_transform(feature_engineered_dataset.drop('podium',axis=1),feature_engineered_dataset['podium'])\n",
    "Y = feature_engineered_dataset['podium']"
   ]
  },
  {
   "cell_type": "code",
   "execution_count": 422,
   "metadata": {},
   "outputs": [],
   "source": [
    "from sklearn.linear_model import LogisticRegression\n",
    "from sklearn.ensemble import RandomForestClassifier\n",
    "from sklearn.neighbors import KNeighborsClassifier\n",
    "from sklearn.svm import SVC\n",
    "from sklearn.naive_bayes import GaussianNB\n",
    "from sklearn.tree import DecisionTreeClassifier\n",
    "from sklearn.neural_network import MLPClassifier\n",
    "\n",
    "clf=[\n",
    "    LogisticRegression(class_weight='balenced'),\n",
    "    SVC(class_weight='balanced'),\n",
    "    RandomForestClassifier(class_weight='balanced'),\n",
    "    DecisionTreeClassifier(random_state=0,class_weight='balanced')\n",
    "]"
   ]
  },
  {
   "cell_type": "code",
   "execution_count": 486,
   "metadata": {},
   "outputs": [],
   "source": [
    "from sklearn.model_selection import train_test_split\n",
    "train_x, test_x, train_y, test_y = train_test_split(X,Y,train_size=0.9)"
   ]
  },
  {
   "cell_type": "code",
   "execution_count": 487,
   "metadata": {},
   "outputs": [],
   "source": [
    "from sklearn.model_selection import KFold,GridSearchCV,cross_val_score,RandomizedSearchCV"
   ]
  },
  {
   "cell_type": "code",
   "execution_count": 488,
   "metadata": {},
   "outputs": [
    {
     "name": "stdout",
     "output_type": "stream",
     "text": [
      "LogisticRegression 0.7573662880236688\n",
      "SVC 0.7379143176961432\n",
      "RandomForestClassifier 0.7292644398583402\n",
      "DecisionTreeClassifier 0.6825304441930736\n"
     ]
    }
   ],
   "source": [
    "for model in clf:\n",
    "    kf=KFold(n_splits=3)\n",
    "    scores = cross_val_score(model,train_x,train_y,cv=kf, scoring='f1')\n",
    "    print(model.__class__.__name__,scores.mean())\n",
    "    "
   ]
  },
  {
   "cell_type": "code",
   "execution_count": 492,
   "metadata": {},
   "outputs": [
    {
     "name": "stderr",
     "output_type": "stream",
     "text": [
      "/home/akram/.local/lib/python3.6/site-packages/sklearn/model_selection/_search.py:282: UserWarning: The total space of parameters 400 is smaller than n_iter=1000. Running 400 iterations. For exhaustive searches, use GridSearchCV.\n",
      "  % (grid_size, self.n_iter, grid_size), UserWarning)\n",
      "[Parallel(n_jobs=-1)]: Using backend LokyBackend with 8 concurrent workers.\n"
     ]
    },
    {
     "name": "stdout",
     "output_type": "stream",
     "text": [
      "Fitting 3 folds for each of 400 candidates, totalling 1200 fits\n"
     ]
    },
    {
     "name": "stderr",
     "output_type": "stream",
     "text": [
      "[Parallel(n_jobs=-1)]: Done  34 tasks      | elapsed:    0.3s\n",
      "[Parallel(n_jobs=-1)]: Done 1108 tasks      | elapsed:    2.1s\n",
      "[Parallel(n_jobs=-1)]: Done 1200 out of 1200 | elapsed:    2.3s finished\n"
     ]
    }
   ],
   "source": [
    "logistic_params = {\n",
    "    'penalty': ['l1', 'l2', 'elasticnet', 'none'],\n",
    "    'C': np.linspace(1,10,10),\n",
    "    'solver': ['newton-cg', 'lbfgs', 'liblinear', 'sag', 'saga'],\n",
    "    'class_weight':['balenced',None]\n",
    "}\n",
    "logistic = RandomizedSearchCV(clf[0],logistic_params,n_iter=1000,cv=3,verbose=2,random_state=42,n_jobs=-1)\n",
    "logistic.fit(train_x,train_y)\n",
    "\n",
    "p=logistic.predict(test_x)"
   ]
  },
  {
   "cell_type": "code",
   "execution_count": 493,
   "metadata": {},
   "outputs": [
    {
     "name": "stdout",
     "output_type": "stream",
     "text": [
      "                          | accuracy | precision | recall | f1_score |\n",
      "RandomizedSearchCV        |    0.894 |     0.795 |  0.674 |    0.729 |\n"
     ]
    },
    {
     "data": {
      "image/png": "[encoded data removed]",
      "text/plain": [
       "<Figure size 432x288 with 2 Axes>"
      ]
     },
     "metadata": {
      "needs_background": "light"
     },
     "output_type": "display_data"
    }
   ],
   "source": [
    "scoring_report(p,test_y,logistic)"
   ]
  },
  {
   "cell_type": "code",
   "execution_count": 450,
   "metadata": {},
   "outputs": [
    {
     "data": {
      "text/plain": [
       "{'solver': 'saga', 'penalty': 'l1', 'class_weight': 'balenced', 'C': 2.0}"
      ]
     },
     "execution_count": 450,
     "metadata": {},
     "output_type": "execute_result"
    }
   ],
   "source": [
    "logistic.best_params_"
   ]
  },
  {
   "cell_type": "code",
   "execution_count": 494,
   "metadata": {},
   "outputs": [
    {
     "data": {
      "text/plain": [
       "{'solver': 'newton-cg', 'penalty': 'l2', 'class_weight': 'balenced', 'C': 4.0}"
      ]
     },
     "execution_count": 494,
     "metadata": {},
     "output_type": "execute_result"
    }
   ],
   "source": [
    "logistic.best_params_"
   ]
  },
  {
   "cell_type": "code",
   "execution_count": null,
   "metadata": {},
   "outputs": [
    {
     "name": "stdout",
     "output_type": "stream",
     "text": [
      "Fitting 3 folds for each of 100 candidates, totalling 300 fits\n"
     ]
    },
    {
     "name": "stderr",
     "output_type": "stream",
     "text": [
      "[Parallel(n_jobs=-1)]: Using backend LokyBackend with 8 concurrent workers.\n",
      "[Parallel(n_jobs=-1)]: Done  25 tasks      | elapsed:   21.2s\n",
      "[Parallel(n_jobs=-1)]: Done 146 tasks      | elapsed:  1.6min\n"
     ]
    }
   ],
   "source": [
    "random_grid = {'n_estimators': [int(x) for x in np.linspace(start = 200, stop = 2000, num = 10)],\n",
    "               'criterion':['gini', 'entropy'],\n",
    "               'max_features': ['auto', 'sqrt'],\n",
    "               'max_depth': np.linspace(10, 110, num = 11),\n",
    "               'min_samples_split': [2, 5, 10],\n",
    "               'min_samples_leaf': [1, 2, 4],\n",
    "               'bootstrap': [True, False],\n",
    "               'class_weight':['balanced']\n",
    "}\n",
    "\n",
    "rand_forest = RandomizedSearchCV(estimator = clf[2], param_distributions = random_grid,\n",
    "                    n_iter = 100, cv = 3, verbose=2, random_state=42, n_jobs = -1)\n",
    "rand_forest.fit(train_x,train_y)\n",
    "\n",
    "p=rand_forest.predict(test_x)"
   ]
  },
  {
   "cell_type": "code",
   "execution_count": 452,
   "metadata": {},
   "outputs": [
    {
     "name": "stdout",
     "output_type": "stream",
     "text": [
      "                          | accuracy | precision | recall | f1_score |\n",
      "RandomizedSearchCV        |    0.912 |     0.750 |  0.686 |    0.716 |\n"
     ]
    },
    {
     "data": {
      "image/png": "[encoded data removed]",
      "text/plain": [
       "<Figure size 432x288 with 2 Axes>"
      ]
     },
     "metadata": {
      "needs_background": "light"
     },
     "output_type": "display_data"
    }
   ],
   "source": [
    "scoring_report(rand_forest.predict(test_x),test_y,rand_forest)"
   ]
  },
  {
   "cell_type": "code",
   "execution_count": 453,
   "metadata": {},
   "outputs": [
    {
     "data": {
      "text/plain": [
       "{'n_estimators': 400,\n",
       " 'min_samples_split': 2,\n",
       " 'min_samples_leaf': 1,\n",
       " 'max_features': 'auto',\n",
       " 'max_depth': 40.0,\n",
       " 'criterion': 'entropy',\n",
       " 'class_weight': 'balanced',\n",
       " 'bootstrap': True}"
      ]
     },
     "execution_count": 453,
     "metadata": {},
     "output_type": "execute_result"
    }
   ],
   "source": [
    "rand_forest.best_params_"
   ]
  },
  {
   "cell_type": "code",
   "execution_count": 458,
   "metadata": {},
   "outputs": [
    {
     "name": "stdout",
     "output_type": "stream",
     "text": [
      "Fitting 3 folds for each of 100 candidates, totalling 300 fits\n"
     ]
    },
    {
     "name": "stderr",
     "output_type": "stream",
     "text": [
      "[Parallel(n_jobs=-1)]: Using backend LokyBackend with 8 concurrent workers.\n",
      "[Parallel(n_jobs=-1)]: Done  34 tasks      | elapsed:    0.4s\n",
      "[Parallel(n_jobs=-1)]: Done 285 out of 300 | elapsed:    3.5s remaining:    0.2s\n",
      "[Parallel(n_jobs=-1)]: Done 300 out of 300 | elapsed:    3.9s finished\n"
     ]
    },
    {
     "data": {
      "text/plain": [
       "RandomizedSearchCV(cv=3, estimator=SVC(class_weight='balanced'), n_iter=100,\n",
       "                   n_jobs=-1,\n",
       "                   param_distributions={'C': array([  1.        ,   6.21052632,  11.42105263,  16.63157895,\n",
       "        21.84210526,  27.05263158,  32.26315789,  37.47368421,\n",
       "        42.68421053,  47.89473684,  53.10526316,  58.31578947,\n",
       "        63.52631579,  68.73684211,  73.94736842,  79.15789474,\n",
       "        84.36842105,  89.57894737,  94.78947368, 100.        ]),\n",
       "                                        'class_weight': ['balenced', None],\n",
       "                                        'degree': range(1, 5),\n",
       "                                        'gamma': ['scale', 'auto'],\n",
       "                                        'kernel': ('linear', 'rbf', 'poly')},\n",
       "                   random_state=42, verbose=2)"
      ]
     },
     "execution_count": 458,
     "metadata": {},
     "output_type": "execute_result"
    }
   ],
   "source": [
    "parameters = {\n",
    "    'kernel':('linear', 'rbf','poly'),\n",
    "    'C': np.linspace(start = 1, stop = 100, num = 20),\n",
    "    'degree': range(1,5),\n",
    "    'gamma':['scale', 'auto'],\n",
    "    'class_weight':['balenced',None]\n",
    "}\n",
    "\n",
    "svc = RandomizedSearchCV(clf[1], parameters, n_iter=100, cv=3, random_state=42, verbose=2, n_jobs=-1)\n",
    "svc.fit(train_x,train_y)\n"
   ]
  },
  {
   "cell_type": "code",
   "execution_count": 461,
   "metadata": {},
   "outputs": [
    {
     "name": "stdout",
     "output_type": "stream",
     "text": [
      "                          | accuracy | precision | recall | f1_score |\n",
      "RandomizedSearchCV        |    0.922 |     0.800 |  0.686 |    0.738 |\n"
     ]
    },
    {
     "data": {
      "image/png": "[encoded data removed]",
      "text/plain": [
       "<Figure size 432x288 with 2 Axes>"
      ]
     },
     "metadata": {
      "needs_background": "light"
     },
     "output_type": "display_data"
    }
   ],
   "source": [
    "scoring_report(svc.predict(test_x),test_y,svc)"
   ]
  },
  {
   "cell_type": "code",
   "execution_count": 358,
   "metadata": {},
   "outputs": [
    {
     "name": "stdout",
     "output_type": "stream",
     "text": [
      "                          | accuracy | precision | recall | f1_score |\n",
      "RandomizedSearchCV        |    0.839 |     0.600 |  0.812 |    0.690 |\n"
     ]
    },
    {
     "data": {
      "image/png": "[encoded data removed]",
      "text/plain": [
       "<Figure size 432x288 with 2 Axes>"
      ]
     },
     "metadata": {
      "needs_background": "light"
     },
     "output_type": "display_data"
    }
   ],
   "source": [
    "scoring_report(svc.predict(test_x),test_y,svc)"
   ]
  },
  {
   "cell_type": "code",
   "execution_count": 383,
   "metadata": {},
   "outputs": [
    {
     "data": {
      "text/plain": [
       "{'kernel': 'rbf', 'gamma': 'scale', 'degree': 3, 'C': 63.526315789473685}"
      ]
     },
     "execution_count": 383,
     "metadata": {},
     "output_type": "execute_result"
    }
   ],
   "source": [
    "svc.best_params_"
   ]
  },
  {
   "cell_type": "code",
   "execution_count": 471,
   "metadata": {},
   "outputs": [],
   "source": [
    "from sklearn.metrics import accuracy_score,roc_auc_score,precision_score,recall_score,confusion_matrix,plot_confusion_matrix,f1_score\n",
    "def scoring_report(p,test_y,model):\n",
    "    \n",
    "    print('{:25} | {:7} | {:7} | {:6} | {:8} |'.format('','accuracy','precision','recall','f1_score'))\n",
    "    result = '{:25} | {:8.3f} | {:9.3f} | {:6.3f} | {:8.3f} |'.format(\n",
    "        model.__class__.__name__,\n",
    "        accuracy_score(test_y, p),\n",
    "        precision_score(test_y,p),\n",
    "        recall_score(test_y, p),\n",
    "        f1_score(test_y,p)\n",
    "    )\n",
    "    print(result)\n",
    "    plot_confusion_matrix(model, test_x, test_y,labels=[1,0],cmap=plt.cm.Blues,normalize='true')"
   ]
  }
 ],
 "metadata": {
  "kernelspec": {
   "display_name": "Python 3",
   "language": "python",
   "name": "python3"
  },
  "language_info": {
   "codemirror_mode": {
    "name": "ipython",
    "version": 3
   },
   "file_extension": ".py",
   "mimetype": "text/x-python",
   "name": "python",
   "nbconvert_exporter": "python",
   "pygments_lexer": "ipython3",
   "version": "3.6.9"
  }
 },
 "nbformat": 4,
 "nbformat_minor": 4
}
